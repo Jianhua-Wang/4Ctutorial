{
 "cells": [
  {
   "cell_type": "code",
   "execution_count": 1,
   "metadata": {},
   "outputs": [],
   "source": [
    "import mappy as mp"
   ]
  },
  {
   "cell_type": "code",
   "execution_count": 12,
   "metadata": {},
   "outputs": [],
   "source": [
    "A_allele = 'ACAGACATGCTTGCTGACTCTAAGTTTAAA'\n",
    "G_allele = 'ACAGACATGCTTGCTGACTCTAAGTTTAAG'\n",
    "fq1 = '/h/jianhua/nankai_PRAD/rs10486567/4C/sourcedata/1048-4C-AG-2_FKDL192552622-1a/1048-4C-AG-2_FKDL192552622-1a_1.clean.fq.gz'\n",
    "fq2 = '/h/jianhua/nankai_PRAD/rs10486567/4C/sourcedata/1048-4C-AG-2_FKDL192552622-1a/1048-4C-AG-2_FKDL192552622-1a_2.clean.fq.gz'\n",
    "out_A = '/h/jianhua/nankai_PRAD/rs10486567/4C/rs10486567-A-rep2.fq'\n",
    "out_G = '/h/jianhua/nankai_PRAD/rs10486567/4C/rs10486567-G-rep2.fq'"
   ]
  },
  {
   "cell_type": "code",
   "execution_count": 13,
   "metadata": {},
   "outputs": [],
   "source": [
    "A_fq = open(out_A,'w')\n",
    "G_fq = open(out_G,'w')\n",
    "for rd1,rd2 in zip(mp.fastx_read(fq1),mp.fastx_read(fq2)):\n",
    "    if rd1[1].startswith(A_allele):\n",
    "        A_fq.write(f'@{rd2[0]}\\n{rd2[1]}\\n+\\n{rd2[2]}\\n')\n",
    "    elif rd1[1].startswith(G_allele):\n",
    "        G_fq.write(f'@{rd2[0]}\\n{rd2[1]}\\n+\\n{rd2[2]}\\n')\n",
    "    elif rd2[1].startswith(A_allele):\n",
    "        A_fq.write(f'@{rd1[0]}\\n{rd1[1]}\\n+\\n{rd1[2]}\\n')\n",
    "    elif rd2[1].startswith(G_allele):\n",
    "        G_fq.write(f'@{rd1[0]}\\n{rd1[1]}\\n+\\n{rd1[2]}\\n')\n",
    "    else:\n",
    "        pass\n",
    "A_fq.close()\n",
    "G_fq.close()"
   ]
  },
  {
   "cell_type": "code",
   "execution_count": null,
   "metadata": {},
   "outputs": [],
   "source": []
  }
 ],
 "metadata": {
  "interpreter": {
   "hash": "5b73f364a93759e3427751e78fdeca12449169e361ba4b6d580b7a93e896fc04"
  },
  "kernelspec": {
   "display_name": "Python 3.8.8 64-bit ('base': conda)",
   "name": "python3"
  },
  "language_info": {
   "codemirror_mode": {
    "name": "ipython",
    "version": 3
   },
   "file_extension": ".py",
   "mimetype": "text/x-python",
   "name": "python",
   "nbconvert_exporter": "python",
   "pygments_lexer": "ipython3",
   "version": "3.8.8"
  },
  "orig_nbformat": 4
 },
 "nbformat": 4,
 "nbformat_minor": 2
}
